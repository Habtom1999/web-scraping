{
 "cells": [
  {
   "cell_type": "markdown",
   "metadata": {},
   "source": [
    "# Web Mining and Applied NLP (44-620)\n",
    "\n",
    "## Web Scraping and NLP with Requests, BeautifulSoup, and spaCy\n",
    "\n",
    "### Student Name:Habtom Woldu\n",
    "# GitHub Repository : https://github.com/Habtom1999/web-scraping.git\n",
    "\n",
    "Perform the tasks described in the Markdown cells below.  When you have completed the assignment make sure your code cells have all been run (and have output beneath them) and ensure you have committed and pushed ALL of your changes to your assignment repository.\n",
    "\n",
    "Every question that requires you to write code will have a code cell underneath it; you may either write your entire solution in that cell or write it in a python file (`.py`), then import and run the appropriate code to answer the question."
   ]
  },
  {
   "cell_type": "code",
   "execution_count": 23,
   "metadata": {},
   "outputs": [
    {
     "name": "stdout",
     "output_type": "stream",
     "text": [
      "Package             VersionAll prereqs installed.\n",
      "\n",
      "------------------- -----------\n",
      "annotated-types     0.6.0\n",
      "asttokens           2.4.1\n",
      "beautifulsoup4      4.12.3\n",
      "blis                0.7.11\n",
      "catalogue           2.0.10\n",
      "certifi             2024.2.2\n",
      "charset-normalizer  3.3.2\n",
      "click               8.1.7\n",
      "cloudpathlib        0.16.0\n",
      "colorama            0.4.6\n",
      "comm                0.2.2\n",
      "confection          0.1.4\n",
      "contourpy           1.2.1\n",
      "cycler              0.12.1\n",
      "cymem               2.0.8\n",
      "debugpy             1.8.1\n",
      "decorator           5.1.1\n",
      "en-core-web-sm      3.7.1\n",
      "exceptiongroup      1.2.0\n",
      "executing           2.0.1\n",
      "fonttools           4.50.0\n",
      "idna                3.6\n",
      "importlib_metadata  7.1.0\n",
      "importlib_resources 6.4.0\n",
      "ipykernel           6.29.4\n",
      "ipython             8.18.1\n",
      "jedi                0.19.1\n",
      "Jinja2              3.1.3\n",
      "joblib              1.3.2\n",
      "jupyter_client      8.6.1\n",
      "jupyter_core        5.7.2\n",
      "kiwisolver          1.4.5\n",
      "langcodes           3.3.0\n",
      "MarkupSafe          2.1.5\n",
      "matplotlib          3.8.3\n",
      "matplotlib-inline   0.1.6\n",
      "murmurhash          1.0.10\n",
      "nest-asyncio        1.6.0\n",
      "nltk                3.8.1\n",
      "numpy               1.26.4\n",
      "packaging           24.0\n",
      "parso               0.8.3\n",
      "pillow              10.3.0\n",
      "pip                 24.0\n",
      "platformdirs        4.2.0\n",
      "preshed             3.0.9\n",
      "prompt-toolkit      3.0.43\n",
      "psutil              5.9.8\n",
      "pure-eval           0.2.2\n",
      "pydantic            2.6.4\n",
      "pydantic_core       2.16.3\n",
      "Pygments            2.17.2\n",
      "pyparsing           3.1.2\n",
      "python-dateutil     2.9.0.post0\n",
      "pywin32             306\n",
      "pyzmq               25.1.2\n",
      "regex               2023.12.25\n",
      "requests            2.31.0\n",
      "setuptools          58.1.0\n",
      "six                 1.16.0\n",
      "smart-open          6.4.0\n",
      "soupsieve           2.5\n",
      "spacy               3.7.4\n",
      "spacy-legacy        3.0.12\n",
      "spacy-loggers       1.0.5\n",
      "spacytextblob       4.0.0\n",
      "srsly               2.4.8\n",
      "stack-data          0.6.3\n",
      "textblob            0.15.3\n",
      "thinc               8.2.3\n",
      "tornado             6.4\n",
      "tqdm                4.66.2\n",
      "traitlets           5.14.2\n",
      "typer               0.9.4\n",
      "typing_extensions   4.10.0\n",
      "urllib3             2.2.1\n",
      "wasabi              1.1.2\n",
      "wcwidth             0.2.13\n",
      "weasel              0.3.4\n",
      "zipp                3.18.1\n"
     ]
    }
   ],
   "source": [
    "\n",
    "# Create and activate a Python virtual environment. \n",
    "# Before starting the project, try all these imports FIRST\n",
    "# Address any errors you get running this code cell \n",
    "# by installing the necessary packages into your active Python environment.\n",
    "# Try to resolve issues using your materials and the web.\n",
    "# If that doesn't work, ask for help in the discussion forums.\n",
    "# You can't complete the exercises until you import these - start early! \n",
    "# We also import pickle and Counter (included in the Python Standard Library).\n",
    "\n",
    "from collections import Counter\n",
    "import pickle\n",
    "import requests\n",
    "import spacy\n",
    "from bs4 import BeautifulSoup\n",
    "import matplotlib.pyplot as plt\n",
    "\n",
    "!pip list\n",
    "\n",
    "print('All prereqs installed.')"
   ]
  },
  {
   "cell_type": "markdown",
   "metadata": {},
   "source": [
    "1. Write code that extracts the article html from https://web.archive.org/web/20210327165005/https://hackaday.com/2021/03/22/how-laser-headlights-work/ and dumps it to a .pkl (or other appropriate file)"
   ]
  },
  {
   "cell_type": "code",
   "execution_count": 25,
   "metadata": {},
   "outputs": [
    {
     "name": "stdout",
     "output_type": "stream",
     "text": [
      "Article content dumped to article_content.pkl\n"
     ]
    }
   ],
   "source": [
    "import requests\n",
    "from bs4 import BeautifulSoup\n",
    "import pickle\n",
    "\n",
    "# URL of the webpage\n",
    "url = \"https://web.archive.org/web/20210327165005/https://hackaday.com/2021/03/22/how-laser-headlights-work/\"\n",
    "\n",
    "# Fetch the webpage content\n",
    "response = requests.get(url)\n",
    "article_page = requests.get(url)\n",
    "article_html= article_page.text\n",
    "# Parse the HTML content\n",
    "soup = BeautifulSoup(response.content, 'html.parser')\n",
    "\n",
    "# Find the article content\n",
    "article_content = soup.find('article').prettify()\n",
    "\n",
    "# Dump the article content to a .pkl file\n",
    "with open('python-match.pkl', 'wb') as f:\n",
    "    pickle.dump(article_page, f)\n",
    "\n",
    "print(\"Article content dumped to article_content.pkl\")\n"
   ]
  },
  {
   "cell_type": "markdown",
   "metadata": {},
   "source": [
    "2. Read in your article's html source from the file you created in question 1 and print it's text (use `.get_text()`)"
   ]
  },
  {
   "cell_type": "code",
   "execution_count": 28,
   "metadata": {},
   "outputs": [
    {
     "name": "stdout",
     "output_type": "stream",
     "text": [
      "\n",
      "\n",
      "How Laser Headlights Work\n",
      "\n",
      "\n",
      "                130 Comments            \n",
      "\n",
      "by:\n",
      "Lewin Day\n",
      "\n",
      "\n",
      "\n",
      "March 22, 2021\n",
      "\n",
      "\n",
      "\n",
      "\n",
      "\n",
      "\n",
      "\n",
      "\n",
      "When we think about the onward march of automotive technology, headlights aren’t usually the first thing that come to mind. Engines, fuel efficiency, and the switch to electric power are all more front of mind. However, that doesn’t mean there aren’t thousands of engineers around the world working to improve the state of the art in automotive lighting day in, day out.\n",
      "Sealed beam headlights gave way to more modern designs once regulations loosened up, while bulbs moved from simple halogens to xenon HIDs and, more recently, LEDs. Now, a new technology is on the scene, with lasers!\n",
      "\n",
      "Laser Headlights?!\n",
      "BWM’s prototype laser headlight assemblies undergoing testing.\n",
      "The first image brought to mind by the phrase “laser headlights” is that of laser beams firing out the front of an automobile. Obviously, coherent beams of monochromatic light would make for poor illumination outside of a very specific spot quite some distance away. Thankfully for our eyes, laser headlights don’t work in this way at all.\n",
      "Instead, laser headlights consist of one or more solid state laser diodes mounted inside the headlight. These blue lasers are fired at a yellow phosphor, similar to that used in white LEDs. This produces a powerful, vibrant white light that can then be bounced off reflectors and out of the headlights towards the road. Laser headlights built in this way have several benefits. They’re more energy efficient than LEDs that put out the same amount of light, while also being more space efficient, too.\n",
      "BWM’s futuristic i8 was one of the first vehicles to ship with laser headlight technology.\n",
      "Laser headlights are still a nascent technology, thus far only appearing in a few BMW, Audi, and other select vehicles. BMW’s technology was developed in partnership with lighting experts OSRAM. In practice, a regular LED low-beam lamp is used, with the laser used to create an incredibly bright and focused spot, used for high-beams. This can provide illumination out to 600 meters ahead of the vehicle, double that of conventional LED high beams. The lights use indium gallium nitride diode lasers that were originally used in projectors, with power levels above 1 watt. One of the challenges in implementing such technology in an automotive environment is the need for it to operate at temperature extremes. While research lasers and laser pointers may primarily be used at typical room temperatures, automotive headlights must be able to withstand everything from 40 degrees below zero up to 50 degrees C. Thankfully, the laser’s high efficiency means it doesn’t have huge heat output of its own to further complicate things. Other engineering challenges involve tailoring the optics package for the rough-and-tumble, high vibration environment found in the automotive application. It’s also important to ensure, as with any such device, that the end user can’t be exposed to harmful laser radiation in the event of accident or malfunction.\n",
      "Tearing Down the Laser Headlight\n",
      "A marketing image showing the construction of an aftermarket LED/laser headlight. We’d take the laser power with a grain of salt — it’s difficult to imagine a 10 W laser shining directly on some small LEDs without melting a hole through the board in short order.\n",
      "An aftermarket has sprung up too, with delightfully innovative designs. Combined laser/LED headlights are readily available on Alibaba, designed as a drop in replacement for projector lamps on existing vehicles. These often use an LED low-beam, and a combined LED/laser high beam, where the laser diode shoots directly at the LED phosphor to excite it further, rather than using its own. These units often also come with fan cooling to keep the laser and LEDs below their maximum operational temperature. Such developments are exciting, though it’s important to be wary of the performance of unknown aftermarket headlights. Many aftermarket LED headlight “upgrades” fail to pass muster when it comes to real-world performance, and there’s no reason to believe hybrid LED/laser designs will be any different. We’d love to pass a selection of these parts through a full IIHS test protocol, but that’s sadly beyond the scope (and budget!) of this article.\n",
      "However, [mikeselectricstuff] has happened to lay his hands on both the BMW and aftermarket parts, tearing them all down in his workshop to see what makes them tick. The differences are multitude when laid bare on the bench. The AliExpress part is relatively simple, wired up no differently from a regular headlight. Interestingly, however, the laser high-beam circuit runs all the time in these parts. To prevent blinding other road users, a shutter is kept in place to block the light, which is moved out of the way with a solenoid when the driver turns on the high beam switch.\n",
      "Where the aftermarket part is a little out of left field, the BMW design is another thing entirely. The cutting-edge headlights are hooked up with multiple connectors and over 30 conductors, with much of the driver electronics living in an external controller. Much of this is to drive the various LEDs and stepper motors for slewing the headlights when steering. However, the laser assembly brings its own complexities. Twin light sensors are built inside to monitor the laser beam, and a special metal blocking arm sits directly in front of the diode, presumably to stop the laser light leaving the headlight in the event the phosphor coating burns through. It’s truly wild to get a look inside a modern luxury car’s headlight and see just how far we’ve come from the old days of simple sealed beams.\n",
      "Cost Versus Performance\n",
      "Despite the efficiency gains available, the technology remains expensive. Powerful laser diodes don’t come cheap, after all. However, as the technology trickles down to lower-end models, it’s likely that we could see economies of scale change that for the better. Indeed, if national authorities begin to demand higher performance headlights as standard, we could see laser headlights become the norm, rather than an expensive luxury. The technology could naturally be applied to home and commercial lighting, too — though we suspect the potential gains are limited enough that LED lighting will remain the norm for some time to come.\n",
      "The high light output of laser headlights in a compact package allows engineers greater freedom when designing the front-end of a car.\n",
      "As it currently stands, much of the appeal of the new technology is about the packaging benefits, which allow automotive designers greater freedom around the headlight area. Such concerns are less of a factor when it comes to light fittings in the home or office, or indeed, on lower-end automobiles. Regardless, it’s an exciting new application for lasers and one we’ll be sure to see more of in the future.\n",
      " \n",
      "\n",
      "\n",
      "\n",
      "\n",
      " \n",
      "\n",
      "\n",
      "\n",
      "\n",
      "\n",
      "\n",
      "\n",
      "\n",
      "\n",
      "\n",
      "\n",
      "\n",
      "\n",
      "\n",
      "\n",
      "\n",
      "\n",
      "\n",
      "\n",
      "Posted in car hacks, Engineering, Featured, Laser Hacks, SliderTagged laser, laser headlight, laser headlights, light \n",
      "\n"
     ]
    }
   ],
   "source": [
    "import pickle\n",
    "import requests\n",
    "from bs4 import BeautifulSoup\n",
    "\n",
    "# URL of the webpage\n",
    "url =\"https://web.archive.org/web/20210327165005/https://hackaday.com/2021/03/22/how-laser-headlights-work/\"\n",
    "\n",
    "# Fetch the webpage content\n",
    "article_page = requests.get(url)\n",
    "article_html = article_page.text\n",
    "\n",
    "# Dump the article content to a .pkl file\n",
    "with open('python_match.pkl', 'wb') as f:\n",
    "    pickle.dump(article_html, f)\n",
    "\n",
    "# Load the article content from the .pkl file\n",
    "with open('python_match.pkl', 'rb') as f:\n",
    "    article_content = pickle.load(f)\n",
    "\n",
    "# Create a BeautifulSoup object to parse the HTML content\n",
    "soup = BeautifulSoup(article_content, 'html.parser')\n",
    "\n",
    "# Find the article element and print its text\n",
    "article_element = soup.find('article')\n",
    "if article_element:\n",
    "    print(article_element.get_text())\n",
    "else:\n",
    "    print(\"Article element not found.\")\n",
    "\n",
    "    \n",
    "\n",
    "\n",
    "\n",
    "\n",
    "\n"
   ]
  },
  {
   "cell_type": "markdown",
   "metadata": {},
   "source": [
    "3. Load the article text into a trained `spaCy` pipeline, and determine the 5 most frequent tokens (converted to lower case).  Print the common tokens with an appropriate label.  Additionally, print the tokens their frequencies (with appropriate labels). Make sure to remove things we don't care about (punctuation, stopwords, whitespace)."
   ]
  },
  {
   "cell_type": "code",
   "execution_count": 32,
   "metadata": {},
   "outputs": [
    {
     "name": "stdout",
     "output_type": "stream",
     "text": [
      "[Laser, Headlights, Work, 130, Comments, Lewin, Day, March, 22, 2021, think, onward, march, automotive, technology, headlights, usually, thing, come, mind, Engines, fuel, efficiency, switch, electric, power, mind, mean, thousands, engineers, world, working, improve, state, art, automotive, lighting, day, day, Sealed, beam, headlights, gave, way, modern, designs, regulations, loosened, bulbs, moved, simple, halogens, xenon, HIDs, recently, LEDs, new, technology, scene, lasers, Laser, Headlights, BWM, prototype, laser, headlight, assemblies, undergoing, testing, image, brought, mind, phrase, laser, headlights, laser, beams, firing, automobile, Obviously, coherent, beams, monochromatic, light, poor, illumination, outside, specific, spot, distance, away, Thankfully, eyes, laser, headlights, work, way, Instead, laser, headlights, consist, solid, state, laser, diodes, mounted, inside, headlight, blue, lasers, fired, yellow, phosphor, similar, white, LEDs, produces, powerful, vibrant, white, light, bounced, reflectors, headlights, road, Laser, headlights, built, way, benefits, energy, efficient, LEDs, light, space, efficient, BWM, futuristic, i8, vehicles, ship, laser, headlight, technology, Laser, headlights, nascent, technology, far, appearing, BMW, Audi, select, vehicles, BMW, technology, developed, partnership, lighting, experts, OSRAM, practice, regular, LED, low, beam, lamp, laser, create, incredibly, bright, focused, spot, high, beams, provide, illumination, 600, meters, ahead, vehicle, double, conventional, LED, high, beams, lights, use, indium, gallium, nitride, diode, lasers, originally, projectors, power, levels, 1, watt, challenges, implementing, technology, automotive, environment, need, operate, temperature, extremes, research, lasers, laser, pointers, primarily, typical, room, temperatures, automotive, headlights, able, withstand, 40, degrees, zero, 50, degrees, C., Thankfully, laser, high, efficiency, means, huge, heat, output, complicate, things, engineering, challenges, involve, tailoring, optics, package, rough, tumble, high, vibration, environment, found, automotive, application, important, ensure, device, end, user, exposed, harmful, laser, radiation, event, accident, malfunction, Tearing, Laser, Headlight, marketing, image, showing, construction, aftermarket, LED, laser, headlight, laser, power, grain, salt, difficult, imagine, 10, W, laser, shining, directly, small, LEDs, melting, hole, board, short, order, aftermarket, sprung, delightfully, innovative, designs, Combined, laser, LED, headlights, readily, available, Alibaba, designed, drop, replacement, projector, lamps, existing, vehicles, use, LED, low, beam, combined, LED, laser, high, beam, laser, diode, shoots, directly, LED, phosphor, excite, units, come, fan, cooling, laser, LEDs, maximum, operational, temperature, developments, exciting, important, wary, performance, unknown, aftermarket, headlights, aftermarket, LED, headlight, upgrades, fail, pass, muster, comes, real, world, performance, reason, believe, hybrid, LED, laser, designs, different, love, pass, selection, parts, IIHS, test, protocol, sadly, scope, budget, article, mikeselectricstuff, happened, lay, hands, BMW, aftermarket, parts, tearing, workshop, makes, tick, differences, multitude, laid, bare, bench, AliExpress, relatively, simple, wired, differently, regular, headlight, Interestingly, laser, high, beam, circuit, runs, time, parts, prevent, blinding, road, users, shutter, kept, place, block, light, moved, way, solenoid, driver, turns, high, beam, switch, aftermarket, little, left, field, BMW, design, thing, entirely, cutting, edge, headlights, hooked, multiple, connectors, 30, conductors, driver, electronics, living, external, controller, drive, LEDs, stepper, motors, slewing, headlights, steering, laser, assembly, brings, complexities, Twin, light, sensors, built, inside, monitor, laser, beam, special, metal, blocking, arm, sits, directly, diode, presumably, stop, laser, light, leaving, headlight, event, phosphor, coating, burns, truly, wild, look, inside, modern, luxury, car, headlight, far, come, old, days, simple, sealed, beams, Cost, Versus, Performance, Despite, efficiency, gains, available, technology, remains, expensive, Powerful, laser, diodes, come, cheap, technology, trickles, lower, end, models, likely, economies, scale, change, better, national, authorities, begin, demand, higher, performance, headlights, standard, laser, headlights, norm, expensive, luxury, technology, naturally, applied, home, commercial, lighting, suspect, potential, gains, limited, LED, lighting, remain, norm, time, come, high, light, output, laser, headlights, compact, package, allows, engineers, greater, freedom, designing, end, car, currently, stands, appeal, new, technology, packaging, benefits, allow, automotive, designers, greater, freedom, headlight, area, concerns, factor, comes, light, fittings, home, office, lower, end, automobiles, Regardless, exciting, new, application, lasers, sure, future, Posted, car, hacks, Engineering, Featured, Laser, Hacks, SliderTagged, laser, laser, headlight, laser, headlights, light]\n",
      "[('laser', 35), ('headlight', 27), ('beam', 12), ('technology', 10), ('light', 10)]\n"
     ]
    }
   ],
   "source": [
    "\n",
    "import spacy\n",
    "from collections import Counter\n",
    "from spacytextblob.spacytextblob import SpacyTextBlob\n",
    "\n",
    "nlp = spacy.load(\"en_core_web_sm\")\n",
    "# adding sentiment analysis\n",
    "doc = nlp(article_element.get_text())\n",
    "non_ws_tokens = []\n",
    "for token in doc:\n",
    "    if not token.is_space:\n",
    "        non_ws_tokens.append(token)\n",
    "# Print (non_ws_tokens)\n",
    "def we_care_about(token):\n",
    "    return not (token.is_space or token.is_punct or token.is_stop)\n",
    "interesting_tokens = [token for token in doc if we_care_about(token)]\n",
    "print(interesting_tokens)\n",
    "word_freq = Counter(map(str,interesting_tokens))\n",
    "# Print (word_freq.most_commen(5))\n",
    "interesting_lemmas = [token.lemma_ for token in doc if we_care_about(token)]\n",
    "lemma_freq = Counter(interesting_lemmas)\n",
    "print(lemma_freq.most_common(5))\n",
    "\n",
    "\n",
    "\n"
   ]
  },
  {
   "cell_type": "markdown",
   "metadata": {},
   "source": [
    "4. Load the article text into a trained `spaCy` pipeline, and determine the 5 most frequent lemmas (converted to lower case).  Print the common lemmas with an appropriate label.  Additionally, print the lemmas with their frequencies (with appropriate labels). Make sure to remove things we don't care about (punctuation, stopwords, whitespace)."
   ]
  },
  {
   "cell_type": "code",
   "execution_count": null,
   "metadata": {},
   "outputs": [],
   "source": []
  },
  {
   "cell_type": "markdown",
   "metadata": {},
   "source": [
    "5. Define the following methods:\n",
    "    * `score_sentence_by_token(sentence, interesting_token)` that takes a sentence and a list of interesting token and returns the number of times that any of the interesting words appear in the sentence divided by the number of words in the sentence\n",
    "    * `score_sentence_by_lemma(sentence, interesting_lemmas)` that takes a sentence and a list of interesting lemmas and returns the number of times that any of the interesting lemmas appear in the sentence divided by the number of words in the sentence\n",
    "    \n",
    "You may find some of the code from the in class notes useful; feel free to use methods (rewrite them in this cell as well).  Test them by showing the score of the first sentence in your article using the frequent tokens and frequent lemmas identified in question 3."
   ]
  },
  {
   "cell_type": "code",
   "execution_count": null,
   "metadata": {},
   "outputs": [],
   "source": []
  },
  {
   "cell_type": "markdown",
   "metadata": {},
   "source": [
    "6. Make a list containing the scores (using tokens) of every sentence in the article, and plot a histogram with appropriate titles and axis labels of the scores. From your histogram, what seems to be the most common range of scores (put the answer in a comment after your code)?"
   ]
  },
  {
   "cell_type": "code",
   "execution_count": null,
   "metadata": {},
   "outputs": [],
   "source": []
  },
  {
   "cell_type": "markdown",
   "metadata": {},
   "source": [
    "7. Make a list containing the scores (using lemmas) of every sentence in the article, and plot a histogram with appropriate titles and axis labels of the scores.  From your histogram, what seems to be the most common range of scores (put the answer in a comment after your code)?"
   ]
  },
  {
   "cell_type": "code",
   "execution_count": null,
   "metadata": {},
   "outputs": [],
   "source": []
  },
  {
   "cell_type": "markdown",
   "metadata": {},
   "source": [
    "8. Which tokens and lexems would be ommitted from the lists generated in questions 3 and 4 if we only wanted to consider nouns as interesting words?  How might we change the code to only consider nouns? Put your answer in this Markdown cell (you can edit it by double clicking it)."
   ]
  }
 ],
 "metadata": {
  "kernelspec": {
   "display_name": "Python 3",
   "language": "python",
   "name": "python3"
  },
  "language_info": {
   "codemirror_mode": {
    "name": "ipython",
    "version": 3
   },
   "file_extension": ".py",
   "mimetype": "text/x-python",
   "name": "python",
   "nbconvert_exporter": "python",
   "pygments_lexer": "ipython3",
   "version": "3.9.13"
  }
 },
 "nbformat": 4,
 "nbformat_minor": 4
}
